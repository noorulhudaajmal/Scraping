{
 "cells": [
  {
   "cell_type": "code",
   "execution_count": 1,
   "id": "872602cd",
   "metadata": {},
   "outputs": [],
   "source": [
    "from selenium import webdriver\n",
    "from bs4 import BeautifulSoup\n",
    "from selenium.webdriver.chrome.service import Service\n",
    "from webdriver_manager.chrome import ChromeDriverManager\n",
    "from selenium.webdriver.common.by import By"
   ]
  },
  {
   "cell_type": "code",
   "execution_count": 2,
   "id": "8ad9a9a3",
   "metadata": {},
   "outputs": [],
   "source": [
    "import pandas as pd"
   ]
  },
  {
   "cell_type": "code",
   "execution_count": 3,
   "id": "1bbd2564",
   "metadata": {},
   "outputs": [],
   "source": [
    "file = pd.read_csv(\"KSA online pharmacies & stores.xlsx - online stores.csv\")"
   ]
  },
  {
   "cell_type": "code",
   "execution_count": 4,
   "id": "38373044",
   "metadata": {},
   "outputs": [],
   "source": [
    "companies = list(file.Pharmacies)"
   ]
  },
  {
   "cell_type": "code",
   "execution_count": 5,
   "id": "5bd88dfc",
   "metadata": {},
   "outputs": [],
   "source": [
    "driver = webdriver.Chrome(service=Service(ChromeDriverManager().install()))"
   ]
  },
  {
   "cell_type": "code",
   "execution_count": 11,
   "id": "f0cdab29",
   "metadata": {
    "collapsed": true
   },
   "outputs": [
    {
     "name": "stdout",
     "output_type": "stream",
     "text": [
      "https://sa.iherb.com/ is being loading...\n",
      "https://www.nahdionline.com/en/ is being loading...\n",
      "https://www.al-dawaa.com/english/ is being loading...\n",
      "https://www.whites.net/en/contact is being loading...\n"
     ]
    },
    {
     "ename": "TimeoutException",
     "evalue": "Message: timeout: Timed out receiving message from renderer: 298.630\n  (Session info: chrome=104.0.5112.101)\nStacktrace:\n#0 0x563f749d4403 <unknown>\n#1 0x563f747da778 <unknown>\n#2 0x563f747c7a88 <unknown>\n#3 0x563f747c665b <unknown>\n#4 0x563f747c6c1c <unknown>\n#5 0x563f747d2c3f <unknown>\n#6 0x563f747d37a2 <unknown>\n#7 0x563f747e1dad <unknown>\n#8 0x563f747e5c6a <unknown>\n#9 0x563f747c7046 <unknown>\n#10 0x563f747e1ab4 <unknown>\n#11 0x563f74843078 <unknown>\n#12 0x563f7482f8f3 <unknown>\n#13 0x563f748050d8 <unknown>\n#14 0x563f74806205 <unknown>\n#15 0x563f74a1be3d <unknown>\n#16 0x563f74a1edb6 <unknown>\n#17 0x563f74a0513e <unknown>\n#18 0x563f74a1f9b5 <unknown>\n#19 0x563f749f9970 <unknown>\n#20 0x563f74a3c228 <unknown>\n#21 0x563f74a3c3bf <unknown>\n#22 0x563f74a56abe <unknown>\n#23 0x7fa89af37609 <unknown>\n",
     "output_type": "error",
     "traceback": [
      "\u001b[0;31m---------------------------------------------------------------------------\u001b[0m",
      "\u001b[0;31mTimeoutException\u001b[0m                          Traceback (most recent call last)",
      "Input \u001b[0;32mIn [11]\u001b[0m, in \u001b[0;36m<module>\u001b[0;34m\u001b[0m\n\u001b[1;32m      1\u001b[0m \u001b[38;5;28;01mfor\u001b[39;00m i \u001b[38;5;129;01min\u001b[39;00m file\u001b[38;5;241m.\u001b[39mPharmacies[:\u001b[38;5;241m5\u001b[39m]:\n\u001b[0;32m----> 2\u001b[0m     \u001b[43mdriver\u001b[49m\u001b[38;5;241;43m.\u001b[39;49m\u001b[43mget\u001b[49m\u001b[43m(\u001b[49m\u001b[43mi\u001b[49m\u001b[43m)\u001b[49m\n\u001b[1;32m      3\u001b[0m     \u001b[38;5;28mprint\u001b[39m(\u001b[38;5;124m\"\u001b[39m\u001b[38;5;132;01m{0}\u001b[39;00m\u001b[38;5;124m is being loading...\u001b[39m\u001b[38;5;124m\"\u001b[39m\u001b[38;5;241m.\u001b[39mformat(i))\n",
      "File \u001b[0;32m~/.local/lib/python3.8/site-packages/selenium/webdriver/remote/webdriver.py:440\u001b[0m, in \u001b[0;36mWebDriver.get\u001b[0;34m(self, url)\u001b[0m\n\u001b[1;32m    436\u001b[0m \u001b[38;5;28;01mdef\u001b[39;00m \u001b[38;5;21mget\u001b[39m(\u001b[38;5;28mself\u001b[39m, url: \u001b[38;5;28mstr\u001b[39m) \u001b[38;5;241m-\u001b[39m\u001b[38;5;241m>\u001b[39m \u001b[38;5;28;01mNone\u001b[39;00m:\n\u001b[1;32m    437\u001b[0m     \u001b[38;5;124;03m\"\"\"\u001b[39;00m\n\u001b[1;32m    438\u001b[0m \u001b[38;5;124;03m    Loads a web page in the current browser session.\u001b[39;00m\n\u001b[1;32m    439\u001b[0m \u001b[38;5;124;03m    \"\"\"\u001b[39;00m\n\u001b[0;32m--> 440\u001b[0m     \u001b[38;5;28;43mself\u001b[39;49m\u001b[38;5;241;43m.\u001b[39;49m\u001b[43mexecute\u001b[49m\u001b[43m(\u001b[49m\u001b[43mCommand\u001b[49m\u001b[38;5;241;43m.\u001b[39;49m\u001b[43mGET\u001b[49m\u001b[43m,\u001b[49m\u001b[43m \u001b[49m\u001b[43m{\u001b[49m\u001b[38;5;124;43m'\u001b[39;49m\u001b[38;5;124;43murl\u001b[39;49m\u001b[38;5;124;43m'\u001b[39;49m\u001b[43m:\u001b[49m\u001b[43m \u001b[49m\u001b[43murl\u001b[49m\u001b[43m}\u001b[49m\u001b[43m)\u001b[49m\n",
      "File \u001b[0;32m~/.local/lib/python3.8/site-packages/selenium/webdriver/remote/webdriver.py:428\u001b[0m, in \u001b[0;36mWebDriver.execute\u001b[0;34m(self, driver_command, params)\u001b[0m\n\u001b[1;32m    426\u001b[0m response \u001b[38;5;241m=\u001b[39m \u001b[38;5;28mself\u001b[39m\u001b[38;5;241m.\u001b[39mcommand_executor\u001b[38;5;241m.\u001b[39mexecute(driver_command, params)\n\u001b[1;32m    427\u001b[0m \u001b[38;5;28;01mif\u001b[39;00m response:\n\u001b[0;32m--> 428\u001b[0m     \u001b[38;5;28;43mself\u001b[39;49m\u001b[38;5;241;43m.\u001b[39;49m\u001b[43merror_handler\u001b[49m\u001b[38;5;241;43m.\u001b[39;49m\u001b[43mcheck_response\u001b[49m\u001b[43m(\u001b[49m\u001b[43mresponse\u001b[49m\u001b[43m)\u001b[49m\n\u001b[1;32m    429\u001b[0m     response[\u001b[38;5;124m'\u001b[39m\u001b[38;5;124mvalue\u001b[39m\u001b[38;5;124m'\u001b[39m] \u001b[38;5;241m=\u001b[39m \u001b[38;5;28mself\u001b[39m\u001b[38;5;241m.\u001b[39m_unwrap_value(\n\u001b[1;32m    430\u001b[0m         response\u001b[38;5;241m.\u001b[39mget(\u001b[38;5;124m'\u001b[39m\u001b[38;5;124mvalue\u001b[39m\u001b[38;5;124m'\u001b[39m, \u001b[38;5;28;01mNone\u001b[39;00m))\n\u001b[1;32m    431\u001b[0m     \u001b[38;5;28;01mreturn\u001b[39;00m response\n",
      "File \u001b[0;32m~/.local/lib/python3.8/site-packages/selenium/webdriver/remote/errorhandler.py:243\u001b[0m, in \u001b[0;36mErrorHandler.check_response\u001b[0;34m(self, response)\u001b[0m\n\u001b[1;32m    241\u001b[0m         alert_text \u001b[38;5;241m=\u001b[39m value[\u001b[38;5;124m'\u001b[39m\u001b[38;5;124malert\u001b[39m\u001b[38;5;124m'\u001b[39m]\u001b[38;5;241m.\u001b[39mget(\u001b[38;5;124m'\u001b[39m\u001b[38;5;124mtext\u001b[39m\u001b[38;5;124m'\u001b[39m)\n\u001b[1;32m    242\u001b[0m     \u001b[38;5;28;01mraise\u001b[39;00m exception_class(message, screen, stacktrace, alert_text)  \u001b[38;5;66;03m# type: ignore[call-arg]  # mypy is not smart enough here\u001b[39;00m\n\u001b[0;32m--> 243\u001b[0m \u001b[38;5;28;01mraise\u001b[39;00m exception_class(message, screen, stacktrace)\n",
      "\u001b[0;31mTimeoutException\u001b[0m: Message: timeout: Timed out receiving message from renderer: 298.630\n  (Session info: chrome=104.0.5112.101)\nStacktrace:\n#0 0x563f749d4403 <unknown>\n#1 0x563f747da778 <unknown>\n#2 0x563f747c7a88 <unknown>\n#3 0x563f747c665b <unknown>\n#4 0x563f747c6c1c <unknown>\n#5 0x563f747d2c3f <unknown>\n#6 0x563f747d37a2 <unknown>\n#7 0x563f747e1dad <unknown>\n#8 0x563f747e5c6a <unknown>\n#9 0x563f747c7046 <unknown>\n#10 0x563f747e1ab4 <unknown>\n#11 0x563f74843078 <unknown>\n#12 0x563f7482f8f3 <unknown>\n#13 0x563f748050d8 <unknown>\n#14 0x563f74806205 <unknown>\n#15 0x563f74a1be3d <unknown>\n#16 0x563f74a1edb6 <unknown>\n#17 0x563f74a0513e <unknown>\n#18 0x563f74a1f9b5 <unknown>\n#19 0x563f749f9970 <unknown>\n#20 0x563f74a3c228 <unknown>\n#21 0x563f74a3c3bf <unknown>\n#22 0x563f74a56abe <unknown>\n#23 0x7fa89af37609 <unknown>\n"
     ]
    }
   ],
   "source": [
    "for i in file.Pharmacies[:5]:\n",
    "    driver.get(i)\n",
    "    print(\"{0} is being loading...\".format(i))"
   ]
  },
  {
   "cell_type": "code",
   "execution_count": 90,
   "id": "7b20443c",
   "metadata": {},
   "outputs": [],
   "source": [
    "driver.get(companies[1])"
   ]
  },
  {
   "cell_type": "code",
   "execution_count": 91,
   "id": "45bec1a2",
   "metadata": {},
   "outputs": [],
   "source": [
    "inp = driver.find_element(by=By.CSS_SELECTOR,value=\"input\")"
   ]
  },
  {
   "cell_type": "code",
   "execution_count": 86,
   "id": "f6c0564d",
   "metadata": {},
   "outputs": [],
   "source": [
    "btn = driver.find_element(by=By.CSS_SELECTOR,value=\"button\")"
   ]
  },
  {
   "cell_type": "code",
   "execution_count": null,
   "id": "33f024ed",
   "metadata": {},
   "outputs": [],
   "source": []
  },
  {
   "cell_type": "code",
   "execution_count": 12,
   "id": "f6acb819",
   "metadata": {},
   "outputs": [],
   "source": [
    "inp = driver.find_element(by=\"id\",value=\"txtSearch\")\n",
    "btn = driver.find_element(by=By.CLASS_NAME,value=\"icon-search\")"
   ]
  },
  {
   "cell_type": "code",
   "execution_count": 92,
   "id": "237bcc7e",
   "metadata": {},
   "outputs": [],
   "source": [
    "inp.send_keys(\"soap\")"
   ]
  },
  {
   "cell_type": "code",
   "execution_count": 93,
   "id": "e2079a9f",
   "metadata": {},
   "outputs": [],
   "source": [
    "inp.click()"
   ]
  },
  {
   "cell_type": "code",
   "execution_count": 16,
   "id": "932ab815",
   "metadata": {},
   "outputs": [],
   "source": [
    "driver.find_element(by=By.CLASS_NAME , value=\"ga-product\")"
   ]
  },
  {
   "cell_type": "code",
   "execution_count": 20,
   "id": "b344e471",
   "metadata": {},
   "outputs": [],
   "source": [
    "products = driver.page_source"
   ]
  },
  {
   "cell_type": "code",
   "execution_count": 21,
   "id": "4ac1f651",
   "metadata": {},
   "outputs": [],
   "source": [
    "soup = BeautifulSoup(products,\"lxml\")"
   ]
  },
  {
   "cell_type": "code",
   "execution_count": 23,
   "id": "835a9977",
   "metadata": {},
   "outputs": [],
   "source": [
    "product_list = soup.find_all(\"div\",{\"class\":\"product\"})"
   ]
  },
  {
   "cell_type": "code",
   "execution_count": 27,
   "id": "ed9e55a1",
   "metadata": {},
   "outputs": [
    {
     "name": "stdout",
     "output_type": "stream",
     "text": [
      "\n",
      "Mild By Nature, صابون قالب للتقشير، بزيوت المارولا والتامانو بالإضافة لزبدة الشيا، رائحة الحمضيات، 5 أونصة (141 جم)\n",
      "\n"
     ]
    }
   ],
   "source": [
    "print(product_list[0].find(\"div\",{\"class\":\"product-title\"}).text)"
   ]
  },
  {
   "cell_type": "code",
   "execution_count": 73,
   "id": "05f892f8",
   "metadata": {},
   "outputs": [
    {
     "name": "stdout",
     "output_type": "stream",
     "text": [
      "\n",
      "162.00SAR\n",
      "\n"
     ]
    }
   ],
   "source": [
    "print(product_list[26].find(\"span\",{\"class\":\"price\"}).text)"
   ]
  },
  {
   "cell_type": "code",
   "execution_count": 48,
   "id": "3c3e0067",
   "metadata": {},
   "outputs": [
    {
     "name": "stdout",
     "output_type": "stream",
     "text": [
      "https://sa.iherb.com/pr/mild-by-nature-exfoliating-bar-soap-with-marula-tamanu-oils-plus-shea-butter-citrus-5-oz-141-g/97368\n"
     ]
    }
   ],
   "source": [
    "print(product_list[0].find(\"a\",{\"class\":\"product-link\"}).get(\"href\"))"
   ]
  },
  {
   "cell_type": "code",
   "execution_count": null,
   "id": "9f46942f",
   "metadata": {},
   "outputs": [],
   "source": [
    "div - itemprop=name , class= product-title\n",
    "# div - class=\"rating\" a.class=stars\n",
    "div - span-bdi - class = price\n",
    "a - class= absolute-link product-link - itemprop = url\n"
   ]
  },
  {
   "cell_type": "code",
   "execution_count": 76,
   "id": "5a708d30",
   "metadata": {},
   "outputs": [
    {
     "name": "stdout",
     "output_type": "stream",
     "text": [
      "\n",
      "Mild By Nature, صابون قالب للتقشير، بزيوت المارولا والتامانو بالإضافة لزبدة الشيا، رائحة الحمضيات، 5 أونصة (141 جم)\n",
      " --- \n",
      "13.46SAR\n",
      " --- https://sa.iherb.com/pr/mild-by-nature-exfoliating-bar-soap-with-marula-tamanu-oils-plus-shea-butter-citrus-5-oz-141-g/97368\n",
      "\n",
      "Mild By Nature, لوح صابون أسود أفريقي، بالشوفان وموز الجنة، 5 أونصة (141 جم)\n",
      " --- \n",
      "13.46SAR\n",
      " --- https://sa.iherb.com/pr/mild-by-nature-african-black-bar-soap-with-oats-plantains-5-oz-141-g/97379\n",
      "\n",
      "Mild By Nature, لوح صابون قشتالي، بالخزامى، 5 أونصة (141 جم)\n",
      " --- \n",
      "13.46SAR\n",
      " --- https://sa.iherb.com/pr/mild-by-nature-castile-bar-soap-lavender-5-oz-141-g/97380\n",
      "\n",
      "Mild By Nature, قالب صابون المانجو والكركم، 5 أونصات (141 جم)\n",
      " --- \n",
      "13.46SAR\n",
      " --- https://sa.iherb.com/pr/mild-by-nature-mango-turmeric-bar-soap-5-oz-141-g/98296\n",
      "\n",
      "Nubian Heritage, قالب الصابون الأفريقي الأسود، 5 أوقية (142 ملجم)\n",
      " --- \n",
      "21.15SAR\n",
      " --- https://sa.iherb.com/pr/nubian-heritage-african-black-bar-soap-5-oz-142-g/11242\n",
      "\n",
      "Dr. Woods, صابون الزهرة الإنجليزية، تفتيح البشرة، 5.25 أونصة (149 غ)\n",
      " --- \n",
      "17.85SAR\n",
      " --- https://sa.iherb.com/pr/dr-woods-english-rose-bar-soap-skin-brightening-5-25-oz-149-g/43279\n",
      "\n",
      "Mild By Nature, لوح صابون الطمي للتخلص من السموم، معزز بالكينا، والنعناع الفلفلي، والطمي العتيق، 5 أونصة (141 جم)\n",
      " --- \n",
      "17.94SAR\n",
      " --- https://sa.iherb.com/pr/mild-by-nature-detoxifying-clay-bar-soap-eucalyptus-peppermint-with-ancient-clay-5-oz-141-g/98312\n",
      "\n",
      "Chandrika Soap, Chandrika، قالب صابون الأيورفيدا، 2.64 أونصة (75 جم)\n",
      " --- \n",
      "8.97SAR\n",
      " --- https://sa.iherb.com/pr/chandrika-soap-chandrika-ayurvedic-bar-soap-2-64-oz-75-g/3678\n",
      "\n",
      "Mild By Nature, صابون قالب قشتالي، بالنعناع الفلفلي، 5 أونصات (141 جم)\n",
      " --- \n",
      "13.46SAR\n",
      " --- https://sa.iherb.com/pr/mild-by-nature-castile-bar-soap-peppermint-5-oz-141-g/97377\n",
      "\n",
      "Auromere, قالب صابون الأيورفيدا مع النيم، الخزامى-النيم، 2.75 أونصة (78 جم)\n",
      " --- \n",
      "15.02SAR\n",
      " --- https://sa.iherb.com/pr/auromere-ayurvedic-bar-soap-with-neem-lavender-neem-2-75-oz-78-g/54098\n",
      "\n",
      "Mild By Nature, زبدة الشيا الخام، لوح صابون، معزز بفيتامين هـ، وإكليل الجبل، ونبات المر، واللبان الشحري، 5 أونصة (141 جم)\n",
      " --- \n",
      "13.46SAR\n",
      " --- https://sa.iherb.com/pr/mild-by-nature-raw-shea-butter-bar-soap-with-vitamin-e-rosemary-myrrh-frankincense-5-oz-141-g/98295\n",
      "\n",
      "Mild By Nature, لوح صابون للتقشير، بزيوت المارولا والتامانو بالإضافة لزبدة الشيا، بدون رائحة، 5 أونصة (141 جم)\n",
      " --- \n",
      "13.46SAR\n",
      " --- https://sa.iherb.com/pr/mild-by-nature-exfoliating-bar-soap-unscented-5-oz-141-g/97373\n",
      "\n",
      "European Soaps, بري دي بروفانس، صابون قطع، زهرة الغاردينيا البيضاء، 5.2 أونصة (150 غ)\n",
      " --- \n",
      "26.26SAR\n",
      " --- https://sa.iherb.com/pr/european-soaps-pre-de-provence-bar-soap-white-gardenia-5-2-oz-150-g/63543\n",
      "\n",
      "European Soaps, بري دي بروفانس، صابون قطع، مريمية، 5.2 أونصة (150 غ)\n",
      " --- \n",
      "21.01SAR\n",
      " --- https://sa.iherb.com/pr/european-soaps-pre-de-provence-bar-soap-sage-5-2-oz-150-g/63542\n",
      "\n",
      "European Soaps, بري-دو-بروفنس، لوح صابون، لافندر (خزامى)، 5.2 أوقية (150 غرام)\n",
      " --- \n",
      "26.06SAR\n",
      " --- https://sa.iherb.com/pr/european-soaps-pre-de-provence-bar-soap-lavender-5-2-oz-150-g/58153\n",
      "\n",
      "European Soaps, بري-دو-بروفنس، لوح صابون، تُويجيات الورد، 8.8 أوقية (250 غرام)\n",
      " --- \n",
      "40.23SAR\n",
      " --- https://sa.iherb.com/pr/european-soaps-pre-de-provence-bar-soap-rose-petal-8-8-oz-250-g/58152\n",
      "\n",
      "Chandrika Soap, Chandrika Sandal Bar Soap, 75 g\n",
      " --- \n",
      "8.97SAR\n",
      " --- https://sa.iherb.com/pr/chandrika-soap-chandrika-sandal-bar-soap-75-g/21248\n",
      "\n",
      "Pure Synergy (بيور سينرجي), مسحوق عصير عضوي، عشب الشعير 5.3 أونصة (150 جم)\n",
      " --- \n",
      "137.24SAR\n",
      " --- https://sa.iherb.com/pr/pure-synergy-organic-juice-powder-barley-grass-5-3-oz-150-g/72778\n",
      "\n",
      "فورس فاكتور, Score! XXL، معزِّز الرجولة، 30 قرصًا\n",
      " --- \n",
      "44.17SAR\n",
      " --- https://sa.iherb.com/pr/force-factor-score-xxl-male-enhancement-30-tablets/103177\n",
      "\n",
      "أوريجينال سبراوت إنك, مجموعة كلاسيكية، بلسم عميق، 32 أونصة سائلة (946 مل)\n",
      " --- \n",
      "162.00SAR\n",
      " --- https://sa.iherb.com/pr/original-sprout-classic-collection-deep-conditioner-32-fl-oz-946-ml/61730\n",
      "\n",
      "لايف إكستانشن, أسس أوميغا، أوميغا-3 فائق، 240 كبسولة رخوة\n",
      " --- \n",
      "94.63SAR\n",
      " --- https://sa.iherb.com/pr/life-extension-super-omega-3-240-softgels/67021\n",
      "\n",
      "جولي نيوتريشن, علكات عبعب منوم، نكهة مزيج التوت، 60 علكة\n",
      " --- \n",
      "91.49SAR\n",
      " --- https://sa.iherb.com/pr/goli-nutrition-ashwagandha-gummies-mixed-berry-60-gummies/104633\n",
      "\n",
      "ALLMAX, طرد السموم من الكبد مع القوة الإضافية للسيليمارين (السلبين المريمي) والكركم (95 ٪ الكركمين)، 42 كبسولة\n",
      " --- \n",
      "78.36SAR\n",
      " --- https://sa.iherb.com/pr/allmax-liver-dtox-with-extra-strength-silymarin-milk-thistle-and-turmeric-95-curcumin-42-capsules/67995\n",
      "\n",
      "نوتروجينا, دهان واقي شمسي من Invisible Daily Defense، بعامل حماية من الشمس 60+، 3 أونصة سائلة (88 مل)\n",
      " --- \n",
      "64.55SAR\n",
      " --- https://sa.iherb.com/pr/neutrogena-invisible-daily-defense-sunscreen-lotion-spf-60-3-fl-oz-88-ml/111167\n",
      "\n",
      "جارو فورميلاز, كورسيتين، 500 مليغرامرام، 100 كبسولة نباتية\n",
      " --- \n",
      "118.05SAR\n",
      " --- https://sa.iherb.com/pr/jarrow-formulas-quercetin-500-mg-100-veggie-caps/40603\n",
      "\n",
      "كاليفورنيا غولد نيوتريشن, مستخلص أوراق الزيتون، EuroHerbs، جودة أوروبية، 500 ملجم، 60 كبسولة نباتية\n",
      " --- \n",
      "35.88SAR\n",
      " --- https://sa.iherb.com/pr/california-gold-nutrition-olive-leaf-extract-euroherbs-european-quality-500-mg-60-veggie-capsules/72082\n",
      "\n",
      "أوبتيموم نوتريشن, مكمل مصل اللبن Gold Standard 100% Whey، كريم الموز، 2 رطل (907 جم)\n",
      " --- \n",
      "222.85SAR\n",
      " --- https://sa.iherb.com/pr/optimum-nutrition-gold-standard-100-whey-banana-cream-2-lb-907-g/85060\n",
      "\n",
      "دكتورز بيست, Lutein with Lutemax 2020، 20 ملجم، 180 كبسولة هلامية\n",
      " --- \n",
      "136.39SAR\n",
      " --- https://sa.iherb.com/pr/doctor-s-best-lutein-with-lutemax-2020-20-mg-180-softgels/58903\n",
      "\n",
      "ناتورال فاكتورز, إنزيمات البابايا مع الأميليز والبروميلين، 120 قرص قابل للمضغ\n",
      " --- \n",
      "23.67SAR\n",
      " --- https://sa.iherb.com/pr/natural-factors-papaya-enzymes-with-amylase-bromelain-120-chewable-tablets/2665\n",
      "\n",
      "ناتورال فاكتورز, ومين سينس، مينو سينس، تركيبة لانقطاع الطمث، 90 كبسولة نباتية\n",
      " --- \n",
      "61.62SAR\n",
      " --- https://sa.iherb.com/pr/natural-factors-womensense-menosense-menopause-formula-90-vegetarian-capsules/2660\n",
      "\n",
      "دكتورز بيست, إنزيم Q10 المساعد عالي الامتصاص مع BioPerine، 400 ملجم، 180 كبسولة نباتية\n",
      " --- \n",
      "364.64SAR\n",
      " --- https://sa.iherb.com/pr/doctor-s-best-high-absorption-coq10-with-bioperine-400-mg-180-veggie-caps/55718\n",
      "\n",
      "سبورتس ريسورش, أستازانتين، بالقوة الثلاثية، 12 ملجم، 60 كبسولة هلامية\n",
      " --- \n",
      "111.00SAR\n",
      " --- https://sa.iherb.com/pr/sports-research-astaxanthin-triple-strength-12-mg-60-softgels/92368\n",
      "\n",
      "ميد إن ناتور, تمور دقلة نور العضوية المجففة، وجبة خفيفة ممتازة شهية، 8 أونصة (227 جم)\n",
      " --- \n",
      "23.44SAR\n",
      " --- https://sa.iherb.com/pr/made-in-nature-organic-dried-dates-ooh-la-luscious-supersnacks-8-oz-227-g/90456\n"
     ]
    }
   ],
   "source": [
    "for i in product_list:\n",
    "    try:\n",
    "        name = i.find(\"div\",{\"class\":\"product-title\"}).text\n",
    "        price = i.find(\"span\",{\"class\":\"price\"}).text\n",
    "        url = i.find(\"a\",{\"class\":\"product-link\"}).get(\"href\")\n",
    "        print( name , \"---\",price,\"---\",url)\n",
    "    except:\n",
    "        continue"
   ]
  },
  {
   "cell_type": "code",
   "execution_count": 58,
   "id": "b1d0d7a4",
   "metadata": {},
   "outputs": [
    {
     "data": {
      "text/plain": [
       "<div class=\"product ga-product\" data-is-out-of-stock=\"true\" data-istrial=\"false\" id=\"pid_44377\" itemid=\"pid_44377\" itemscope=\"\" itemtype=\"http://schema.org/Product\">\n",
       "<div class=\"product-flag-container\">\n",
       "</div>\n",
       "<div class=\"product-inner product-inner-wide\">\n",
       "<div class=\"absolute-link-wrapper\">\n",
       "<a aria-label=\"European Soaps, Pre de Provence ، قطعة الصابون، الحليب، 8.8 أوقية (250 غرام)    \" class=\"absolute-link product-link\" data-ga-brand-id=\"ESL\" data-ga-brand-name=\"European Soaps\" data-ga-discount-price=\"42.86SAR\" data-ga-event=\"click\" data-ga-event-action=\"productClick\" data-ga-event-category=\"Ecommerce\" data-ga-event-label=\"Product List_ListView\" data-ga-inventory-status=\"1\" data-ga-is-discontinued=\"True\" data-ga-is-out-of-stock=\"True\" data-ga-item-variant=\"False\" data-ga-product-id=\"44377\" data-ga-product-position=\"13\" data-part-number=\"ESL-76190\" data-product-id=\"44377\" href=\"https://sa.iherb.com/pr/european-soaps-pre-de-provence-bar-soap-milk-8-8-oz-250-g-discontinued-item/44377\" itemprop=\"url\" title=\"European Soaps, Pre de Provence ، قطعة الصابون، الحليب، 8.8 أوقية (250 غرام)    \"></a>\n",
       "<div class=\"product-image-wrapper\">\n",
       "<span class=\"product-image\" data-part-number=\"ESL-76190\" data-primary-image-index=\"4\">\n",
       "<img alt=\"European Soaps, Pre de Provence ، قطعة الصابون، الحليب، 8.8 أوقية (250 غرام)    \" class=\"\" height=\"160\" itemprop=\"image\" src=\"https://cloudinary.images-iherb.com/image/upload/f_auto,q_auto:eco/images/esl/esl76190/u/4.jpg\" srcset=\"https://cloudinary.images-iherb.com/image/upload/f_auto,q_auto:eco/images/esl/esl76190/c/4.jpg 1x, https://cloudinary.images-iherb.com/image/upload/f_auto,q_auto:eco/images/esl/esl76190/u/4.jpg 1.5x\" width=\"160\"/>\n",
       "</span>\n",
       "</div>\n",
       "<div class=\"product-title\" content=\"European Soaps, Pre de Provence ، قطعة الصابون، الحليب، 8.8 أوقية (250 غرام)    \" itemprop=\"name\">\n",
       "<bdi>European Soaps, Pre de Provence ، قطعة الصابون، الحليب، 8.8 أوقية (250 غرام)    </bdi>\n",
       "</div>\n",
       "</div>\n",
       "<div class=\"rating\"><a class=\"stars\" data-ds-target=\"link\" href=\"https://sa.iherb.com/r/european-soaps-pre-de-provence-bar-soap-milk-8-8-oz-250-g-discontinued-item/44377\" title=\"4.7/5 - 153 تقييماتي\"><svg class=\"stars-rating-v2 full\" height=\"24\" viewbox=\"0 0 24 24\" width=\"24\"> <path d=\"M12.2328 18.5589L12.0001 18.4366L11.7674 18.5589L5.61072 21.796L6.78655 14.9398L6.83098 14.6807L6.64276 14.4972L1.66182 9.6416L8.54528 8.64129L8.80542 8.60349L8.92175 8.36776L12.0001 2.12985L15.0784 8.36776L15.1947 8.60349L15.4549 8.64129L22.3383 9.6416L17.3574 14.4972L17.1692 14.6807L17.2136 14.9398L18.3894 21.796L12.2328 18.5589Z\"></path></svg><svg class=\"stars-rating-v2 full\" height=\"24\" viewbox=\"0 0 24 24\" width=\"24\"> <path d=\"M12.2328 18.5589L12.0001 18.4366L11.7674 18.5589L5.61072 21.796L6.78655 14.9398L6.83098 14.6807L6.64276 14.4972L1.66182 9.6416L8.54528 8.64129L8.80542 8.60349L8.92175 8.36776L12.0001 2.12985L15.0784 8.36776L15.1947 8.60349L15.4549 8.64129L22.3383 9.6416L17.3574 14.4972L17.1692 14.6807L17.2136 14.9398L18.3894 21.796L12.2328 18.5589Z\"></path></svg><svg class=\"stars-rating-v2 full\" height=\"24\" viewbox=\"0 0 24 24\" width=\"24\"> <path d=\"M12.2328 18.5589L12.0001 18.4366L11.7674 18.5589L5.61072 21.796L6.78655 14.9398L6.83098 14.6807L6.64276 14.4972L1.66182 9.6416L8.54528 8.64129L8.80542 8.60349L8.92175 8.36776L12.0001 2.12985L15.0784 8.36776L15.1947 8.60349L15.4549 8.64129L22.3383 9.6416L17.3574 14.4972L17.1692 14.6807L17.2136 14.9398L18.3894 21.796L12.2328 18.5589Z\"></path></svg><svg class=\"stars-rating-v2 full\" height=\"24\" viewbox=\"0 0 24 24\" width=\"24\"> <path d=\"M12.2328 18.5589L12.0001 18.4366L11.7674 18.5589L5.61072 21.796L6.78655 14.9398L6.83098 14.6807L6.64276 14.4972L1.66182 9.6416L8.54528 8.64129L8.80542 8.60349L8.92175 8.36776L12.0001 2.12985L15.0784 8.36776L15.1947 8.60349L15.4549 8.64129L22.3383 9.6416L17.3574 14.4972L17.1692 14.6807L17.2136 14.9398L18.3894 21.796L12.2328 18.5589Z\"></path></svg><svg class=\"stars-rating-v2 three-quarters\" fill=\"none\" height=\"24\" viewbox=\"0 0 24 24\" width=\"24\" xmlns=\"http://www.w3.org/2000/svg\"><path clip-rule=\"evenodd\" d=\"M14.85 6.7558V20.4986L12.0128 19.007L4.95935 22.7152L6.30644 14.8611L0.600098 9.29875L8.48607 8.15286L12.0128 1.00696L14.85 6.7558Z\" fill-rule=\"evenodd\"></path><path d=\"M12.2328 18.5574L12.0001 18.4351L11.7674 18.5574L5.61072 21.7942L6.78655 14.9386L6.83098 14.6795L6.64275 14.4961L1.66188 9.64092L8.54527 8.6407L8.8054 8.6029L8.92174 8.36718L12.0001 2.12978L15.0784 8.36718L15.1948 8.6029L15.4549 8.6407L22.3383 9.64092L17.3574 14.4961L17.1692 14.6795L17.2136 14.9386L18.3894 21.7942L12.2328 18.5574Z\"></path></svg></a><a class=\"rating-count\" data-ds-target=\"link\" href=\"https://sa.iherb.com/r/european-soaps-pre-de-provence-bar-soap-milk-8-8-oz-250-g-discontinued-item/44377\" title=\"4.7/5 - 153 تقييماتي\"><span>153</span></a></div>\n",
       "<div itemprop=\"aggregateRating\" itemscope=\"\" itemtype=\"http://schema.org/AggregateRating\">\n",
       "<meta content=\"4.7\" itemprop=\"ratingValue\"/>\n",
       "<meta content=\"153\" itemprop=\"reviewCount\"/>\n",
       "</div>\n",
       "<div class=\"product-price text-nowrap\">\n",
       "<div class=\"product-price-top\">\n",
       "<div>\n",
       "<div class=\"discontinued-text-container\">\n",
       "<span class=\"discontinued-text text-danger-lighter\">\n",
       "<i>\n",
       "<bdi>المنتجات المتوقف بيعها</bdi>\n",
       "</i>\n",
       "</span>\n",
       "<a class=\"similar-product-show-link\" data-ga-event-action=\"discontinued\" data-ga-event-category=\"search\" data-ga-event-label=\"view similar\">\n",
       "<span>\n",
       "                                                        عرض المنتجات المتشابهة\n",
       "                                                    </span>\n",
       "</a>\n",
       "<a class=\"similar-product-hide-link\" style=\"display: none\">\n",
       "<span>\n",
       "                                                        إخفاء المنتجات المتشابهة\n",
       "                                                    </span>\n",
       "</a>\n",
       "</div>\n",
       "</div>\n",
       "</div>\n",
       "<div class=\"product-discount-container\">\n",
       "</div>\n",
       "</div>\n",
       "</div>\n",
       "<div style=\"display:none\">\n",
       "<div content=\"NotDefined\" itemprop=\"category\"></div>\n",
       "<div content=\"ESL-76190\" itemprop=\"sku\"></div>\n",
       "<input name=\"pid\" type=\"hidden\" value=\"44377\"/>\n",
       "</div>\n",
       "</div>"
      ]
     },
     "execution_count": 58,
     "metadata": {},
     "output_type": "execute_result"
    }
   ],
   "source": [
    "product_list[12]"
   ]
  },
  {
   "cell_type": "code",
   "execution_count": null,
   "id": "92af91db",
   "metadata": {},
   "outputs": [],
   "source": [
    "search_input = driver.find_element(by= \"id\" ,value = 'search')\n",
    "search_button = driver.find_element(by= \"id\" ,value = 'session_password')"
   ]
  }
 ],
 "metadata": {
  "kernelspec": {
   "display_name": "Python 3 (ipykernel)",
   "language": "python",
   "name": "python3"
  },
  "language_info": {
   "codemirror_mode": {
    "name": "ipython",
    "version": 3
   },
   "file_extension": ".py",
   "mimetype": "text/x-python",
   "name": "python",
   "nbconvert_exporter": "python",
   "pygments_lexer": "ipython3",
   "version": "3.8.10"
  }
 },
 "nbformat": 4,
 "nbformat_minor": 5
}
